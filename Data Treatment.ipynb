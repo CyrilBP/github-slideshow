{
 "cells": [
  {
   "cell_type": "code",
   "execution_count": 1,
   "metadata": {},
   "outputs": [],
   "source": [
    "import pandas as pd\n",
    "import numpy as np\n",
    "from sklearn import preprocessing\n",
    "from datetime import datetime,timedelta\n",
    "from collections import Counter\n",
    "from tqdm import tqdm\n",
    "import glob\n",
    "\n",
    "from sklearn.model_selection import train_test_split\n",
    "import torch\n",
    "import torch.nn as nn\n",
    "import torch.optim as optim\n",
    "\n",
    "import matplotlib.pyplot as plt\n",
    "%matplotlib inline\n",
    "\n",
    "from data_augment import *"
   ]
  },
  {
   "cell_type": "markdown",
   "metadata": {},
   "source": [
    "### Importation of the Excel files - 1 per year (from tennis.co.uk)\n",
    " Some preprocessing is necessary because for several years the odds are not present\n",
    " \n",
    " We consider only the odds of Bet365 and Pinnacle."
   ]
  },
  {
   "cell_type": "code",
   "execution_count": 2,
   "metadata": {},
   "outputs": [
    {
     "name": "stdout",
     "output_type": "stream",
     "text": [
      "21\n"
     ]
    }
   ],
   "source": [
    "filenames=list(glob.glob(\"Data/Men/20*.xls*\"))\n",
    "print(len(filenames))\n",
    "l_df = [pd.read_excel(file) for file in filenames]\n"
   ]
  },
  {
   "cell_type": "code",
   "execution_count": 3,
   "metadata": {},
   "outputs": [],
   "source": [
    "l_df = [d[list(d.columns)[:13]+[\"Wsets\",\"Lsets\",\"Comment\"]] for d in l_df ]\n",
    "df = pd.concat(l_df,0)"
   ]
  },
  {
   "cell_type": "markdown",
   "metadata": {},
   "source": [
    "### Data cleaning"
   ]
  },
  {
   "cell_type": "code",
   "execution_count": 4,
   "metadata": {},
   "outputs": [],
   "source": [
    "df = df.sort_values(\"Date\")\n",
    "df[\"WRank\"]=df[\"WRank\"].replace(np.nan,0)\n",
    "df[\"WRank\"]=df[\"WRank\"].replace(\"NR\",2000)\n",
    "df[\"LRank\"]=df[\"LRank\"].replace(np.nan,0)\n",
    "df[\"LRank\"]=df[\"LRank\"].replace(\"NR\",2000)\n",
    "df[\"WRank\"]=df[\"WRank\"].astype(int)\n",
    "df[\"LRank\"]=df[\"LRank\"].astype(int)\n",
    "df[\"Wsets\"]=df[\"Wsets\"].astype(float)\n",
    "df[\"Lsets\"]=df[\"Lsets\"].replace(\"`1\",1)\n",
    "df[\"Lsets\"]=df[\"Lsets\"].astype(float)\n",
    "df=df.reset_index(drop=True)"
   ]
  },
  {
   "cell_type": "code",
   "execution_count": 5,
   "metadata": {},
   "outputs": [],
   "source": [
    "df.to_csv(\"Generated Data/atp_data.csv\",index=False)"
   ]
  },
  {
   "cell_type": "markdown",
   "metadata": {},
   "source": [
    "### Building training set\n",
    "#Focusing on years post 2008"
   ]
  },
  {
   "cell_type": "code",
   "execution_count": 6,
   "metadata": {},
   "outputs": [],
   "source": [
    "data=pd.read_csv(\"Generated Data/atp_data.csv\", encoding = \"ISO-8859-1\")\n",
    "data.Date = data.Date.apply(lambda x:datetime.strptime(x, '%Y-%m-%d'))"
   ]
  },
  {
   "cell_type": "code",
   "execution_count": 7,
   "metadata": {},
   "outputs": [
    {
     "data": {
      "text/html": [
       "<div>\n",
       "<table border=\"1\" class=\"dataframe\">\n",
       "  <thead>\n",
       "    <tr style=\"text-align: right;\">\n",
       "      <th></th>\n",
       "      <th>ATP</th>\n",
       "      <th>Location</th>\n",
       "      <th>Tournament</th>\n",
       "      <th>Date</th>\n",
       "      <th>Series</th>\n",
       "      <th>Court</th>\n",
       "      <th>Surface</th>\n",
       "      <th>Round</th>\n",
       "      <th>Best of</th>\n",
       "      <th>Winner</th>\n",
       "      <th>Loser</th>\n",
       "      <th>WRank</th>\n",
       "      <th>LRank</th>\n",
       "      <th>Wsets</th>\n",
       "      <th>Lsets</th>\n",
       "      <th>Comment</th>\n",
       "    </tr>\n",
       "  </thead>\n",
       "  <tbody>\n",
       "    <tr>\n",
       "      <th>0</th>\n",
       "      <td>1</td>\n",
       "      <td>Adelaide</td>\n",
       "      <td>Australian Hardcourt Championships</td>\n",
       "      <td>2000-01-03</td>\n",
       "      <td>International</td>\n",
       "      <td>Outdoor</td>\n",
       "      <td>Hard</td>\n",
       "      <td>1st Round</td>\n",
       "      <td>3</td>\n",
       "      <td>Dosedel S.</td>\n",
       "      <td>Ljubicic I.</td>\n",
       "      <td>63</td>\n",
       "      <td>77</td>\n",
       "      <td>2.0</td>\n",
       "      <td>0.0</td>\n",
       "      <td>Completed</td>\n",
       "    </tr>\n",
       "    <tr>\n",
       "      <th>1</th>\n",
       "      <td>3</td>\n",
       "      <td>Doha</td>\n",
       "      <td>Qatar Open</td>\n",
       "      <td>2000-01-03</td>\n",
       "      <td>International</td>\n",
       "      <td>Outdoor</td>\n",
       "      <td>Hard</td>\n",
       "      <td>1st Round</td>\n",
       "      <td>3</td>\n",
       "      <td>Kiefer N.</td>\n",
       "      <td>Tarango J.</td>\n",
       "      <td>6</td>\n",
       "      <td>59</td>\n",
       "      <td>2.0</td>\n",
       "      <td>0.0</td>\n",
       "      <td>Completed</td>\n",
       "    </tr>\n",
       "    <tr>\n",
       "      <th>2</th>\n",
       "      <td>3</td>\n",
       "      <td>Doha</td>\n",
       "      <td>Qatar Open</td>\n",
       "      <td>2000-01-03</td>\n",
       "      <td>International</td>\n",
       "      <td>Outdoor</td>\n",
       "      <td>Hard</td>\n",
       "      <td>1st Round</td>\n",
       "      <td>3</td>\n",
       "      <td>Gaudio G.</td>\n",
       "      <td>Luxa P.</td>\n",
       "      <td>73</td>\n",
       "      <td>174</td>\n",
       "      <td>2.0</td>\n",
       "      <td>1.0</td>\n",
       "      <td>Completed</td>\n",
       "    </tr>\n",
       "    <tr>\n",
       "      <th>3</th>\n",
       "      <td>3</td>\n",
       "      <td>Doha</td>\n",
       "      <td>Qatar Open</td>\n",
       "      <td>2000-01-03</td>\n",
       "      <td>International</td>\n",
       "      <td>Outdoor</td>\n",
       "      <td>Hard</td>\n",
       "      <td>1st Round</td>\n",
       "      <td>3</td>\n",
       "      <td>El Aynaoui Y.</td>\n",
       "      <td>Dupuis A.</td>\n",
       "      <td>33</td>\n",
       "      <td>78</td>\n",
       "      <td>2.0</td>\n",
       "      <td>1.0</td>\n",
       "      <td>Completed</td>\n",
       "    </tr>\n",
       "    <tr>\n",
       "      <th>4</th>\n",
       "      <td>3</td>\n",
       "      <td>Doha</td>\n",
       "      <td>Qatar Open</td>\n",
       "      <td>2000-01-03</td>\n",
       "      <td>International</td>\n",
       "      <td>Outdoor</td>\n",
       "      <td>Hard</td>\n",
       "      <td>1st Round</td>\n",
       "      <td>3</td>\n",
       "      <td>Cherkasov A.</td>\n",
       "      <td>Arazi H.</td>\n",
       "      <td>206</td>\n",
       "      <td>35</td>\n",
       "      <td>2.0</td>\n",
       "      <td>0.0</td>\n",
       "      <td>Completed</td>\n",
       "    </tr>\n",
       "  </tbody>\n",
       "</table>\n",
       "</div>"
      ],
      "text/plain": [
       "   ATP  Location                          Tournament       Date  \\\n",
       "0    1  Adelaide  Australian Hardcourt Championships 2000-01-03   \n",
       "1    3      Doha                          Qatar Open 2000-01-03   \n",
       "2    3      Doha                          Qatar Open 2000-01-03   \n",
       "3    3      Doha                          Qatar Open 2000-01-03   \n",
       "4    3      Doha                          Qatar Open 2000-01-03   \n",
       "\n",
       "          Series    Court Surface      Round  Best of         Winner  \\\n",
       "0  International  Outdoor    Hard  1st Round        3     Dosedel S.   \n",
       "1  International  Outdoor    Hard  1st Round        3      Kiefer N.   \n",
       "2  International  Outdoor    Hard  1st Round        3      Gaudio G.   \n",
       "3  International  Outdoor    Hard  1st Round        3  El Aynaoui Y.   \n",
       "4  International  Outdoor    Hard  1st Round        3   Cherkasov A.   \n",
       "\n",
       "         Loser  WRank  LRank  Wsets  Lsets    Comment  \n",
       "0  Ljubicic I.     63     77    2.0    0.0  Completed  \n",
       "1   Tarango J.      6     59    2.0    0.0  Completed  \n",
       "2      Luxa P.     73    174    2.0    1.0  Completed  \n",
       "3    Dupuis A.     33     78    2.0    1.0  Completed  \n",
       "4     Arazi H.    206     35    2.0    0.0  Completed  "
      ]
     },
     "execution_count": 7,
     "metadata": {},
     "output_type": "execute_result"
    }
   ],
   "source": [
    "beg = datetime(2008,1,1) \n",
    "end = data.Date.iloc[-1]\n",
    "indices = data[(data.Date>beg)&(data.Date<=end)].index\n",
    "data.head()"
   ]
  },
  {
   "cell_type": "code",
   "execution_count": 8,
   "metadata": {
    "scrolled": true
   },
   "outputs": [
    {
     "name": "stderr",
     "output_type": "stream",
     "text": [
      "\r",
      "  0%|                                                                                        | 0/32270 [00:00<?, ?it/s]"
     ]
    },
    {
     "name": "stdout",
     "output_type": "stream",
     "text": [
      "0\n"
     ]
    },
    {
     "name": "stderr",
     "output_type": "stream",
     "text": [
      " 16%|███████████▉                                                                 | 5002/32270 [06:32<34:29, 13.18it/s]"
     ]
    },
    {
     "name": "stdout",
     "output_type": "stream",
     "text": [
      "5000\n"
     ]
    },
    {
     "name": "stderr",
     "output_type": "stream",
     "text": [
      " 31%|███████████████████████▌                                                    | 10002/32270 [12:56<27:46, 13.36it/s]"
     ]
    },
    {
     "name": "stdout",
     "output_type": "stream",
     "text": [
      "10000\n"
     ]
    },
    {
     "name": "stderr",
     "output_type": "stream",
     "text": [
      " 46%|███████████████████████████████████▎                                        | 15001/32270 [19:18<22:27, 12.81it/s]"
     ]
    },
    {
     "name": "stdout",
     "output_type": "stream",
     "text": [
      "15000\n"
     ]
    },
    {
     "name": "stderr",
     "output_type": "stream",
     "text": [
      " 62%|███████████████████████████████████████████████                             | 20001/32270 [25:40<15:19, 13.34it/s]"
     ]
    },
    {
     "name": "stdout",
     "output_type": "stream",
     "text": [
      "20000\n"
     ]
    },
    {
     "name": "stderr",
     "output_type": "stream",
     "text": [
      " 77%|██████████████████████████████████████████████████████████▉                 | 25001/32270 [32:17<09:16, 13.07it/s]"
     ]
    },
    {
     "name": "stdout",
     "output_type": "stream",
     "text": [
      "25000\n"
     ]
    },
    {
     "name": "stderr",
     "output_type": "stream",
     "text": [
      " 93%|██████████████████████████████████████████████████████████████████████▋     | 30001/32270 [38:37<02:50, 13.34it/s]"
     ]
    },
    {
     "name": "stdout",
     "output_type": "stream",
     "text": [
      "30000\n"
     ]
    },
    {
     "name": "stderr",
     "output_type": "stream",
     "text": [
      "100%|████████████████████████████████████████████████████████████████████████████| 32270/32270 [41:46<00:00, 12.88it/s]\n"
     ]
    }
   ],
   "source": [
    "last_days = [15, 30, 60, 90, 120]\n",
    "data_aug = Momentum(data, indices, last_days, 1000, 360*4)"
   ]
  },
  {
   "cell_type": "code",
   "execution_count": 11,
   "metadata": {},
   "outputs": [],
   "source": [
    "#toto = data_aug.copy()\n",
    "#data_aug = toto.copy()"
   ]
  },
  {
   "cell_type": "code",
   "execution_count": 46,
   "metadata": {},
   "outputs": [
    {
     "data": {
      "text/html": [
       "<div>\n",
       "<table border=\"1\" class=\"dataframe\">\n",
       "  <thead>\n",
       "    <tr style=\"text-align: right;\">\n",
       "      <th></th>\n",
       "      <th>Player1</th>\n",
       "      <th>Player2</th>\n",
       "      <th>pc_win1_30</th>\n",
       "      <th>pc_win2_60</th>\n",
       "      <th>pc_win1_15</th>\n",
       "      <th>pc_win1_60</th>\n",
       "      <th>pc_win2_15</th>\n",
       "      <th>pc_win2_90</th>\n",
       "      <th>pc_win1_90</th>\n",
       "      <th>pc_win2_30</th>\n",
       "      <th>...</th>\n",
       "      <th>Round_1st Round</th>\n",
       "      <th>Round_2nd Round</th>\n",
       "      <th>Round_3rd Round</th>\n",
       "      <th>Round_4th Round</th>\n",
       "      <th>Round_Quarterfinals</th>\n",
       "      <th>Round_Round Robin</th>\n",
       "      <th>Round_Semifinals</th>\n",
       "      <th>Round_The Final</th>\n",
       "      <th>Best of_3</th>\n",
       "      <th>Best of_5</th>\n",
       "    </tr>\n",
       "  </thead>\n",
       "  <tbody>\n",
       "    <tr>\n",
       "      <th>23191</th>\n",
       "      <td>Kohlschreiber P.</td>\n",
       "      <td>Volandri F.</td>\n",
       "      <td>0.5</td>\n",
       "      <td>0.5</td>\n",
       "      <td>0.5</td>\n",
       "      <td>0.125000</td>\n",
       "      <td>0.166667</td>\n",
       "      <td>0.5</td>\n",
       "      <td>0.5</td>\n",
       "      <td>0.5</td>\n",
       "      <td>...</td>\n",
       "      <td>0</td>\n",
       "      <td>1</td>\n",
       "      <td>0</td>\n",
       "      <td>0</td>\n",
       "      <td>0</td>\n",
       "      <td>0</td>\n",
       "      <td>0</td>\n",
       "      <td>0</td>\n",
       "      <td>1</td>\n",
       "      <td>0</td>\n",
       "    </tr>\n",
       "    <tr>\n",
       "      <th>23192</th>\n",
       "      <td>Sirianni J.</td>\n",
       "      <td>Querrey S.</td>\n",
       "      <td>0.5</td>\n",
       "      <td>0.5</td>\n",
       "      <td>0.5</td>\n",
       "      <td>0.500000</td>\n",
       "      <td>0.500000</td>\n",
       "      <td>0.5</td>\n",
       "      <td>0.5</td>\n",
       "      <td>0.5</td>\n",
       "      <td>...</td>\n",
       "      <td>0</td>\n",
       "      <td>1</td>\n",
       "      <td>0</td>\n",
       "      <td>0</td>\n",
       "      <td>0</td>\n",
       "      <td>0</td>\n",
       "      <td>0</td>\n",
       "      <td>0</td>\n",
       "      <td>1</td>\n",
       "      <td>0</td>\n",
       "    </tr>\n",
       "    <tr>\n",
       "      <th>23193</th>\n",
       "      <td>Mathieu P.H.</td>\n",
       "      <td>Guccione C.</td>\n",
       "      <td>0.5</td>\n",
       "      <td>0.5</td>\n",
       "      <td>0.5</td>\n",
       "      <td>0.192308</td>\n",
       "      <td>0.100000</td>\n",
       "      <td>0.5</td>\n",
       "      <td>0.5</td>\n",
       "      <td>0.5</td>\n",
       "      <td>...</td>\n",
       "      <td>0</td>\n",
       "      <td>1</td>\n",
       "      <td>0</td>\n",
       "      <td>0</td>\n",
       "      <td>0</td>\n",
       "      <td>0</td>\n",
       "      <td>0</td>\n",
       "      <td>0</td>\n",
       "      <td>1</td>\n",
       "      <td>0</td>\n",
       "    </tr>\n",
       "    <tr>\n",
       "      <th>23194</th>\n",
       "      <td>Becker B.</td>\n",
       "      <td>Russell M.</td>\n",
       "      <td>0.5</td>\n",
       "      <td>0.5</td>\n",
       "      <td>0.5</td>\n",
       "      <td>0.000000</td>\n",
       "      <td>0.136364</td>\n",
       "      <td>0.5</td>\n",
       "      <td>0.5</td>\n",
       "      <td>0.5</td>\n",
       "      <td>...</td>\n",
       "      <td>0</td>\n",
       "      <td>1</td>\n",
       "      <td>0</td>\n",
       "      <td>0</td>\n",
       "      <td>0</td>\n",
       "      <td>0</td>\n",
       "      <td>0</td>\n",
       "      <td>0</td>\n",
       "      <td>1</td>\n",
       "      <td>0</td>\n",
       "    </tr>\n",
       "    <tr>\n",
       "      <th>23195</th>\n",
       "      <td>Johansson T.</td>\n",
       "      <td>Berrer M.</td>\n",
       "      <td>0.5</td>\n",
       "      <td>0.5</td>\n",
       "      <td>0.5</td>\n",
       "      <td>0.125000</td>\n",
       "      <td>0.166667</td>\n",
       "      <td>0.5</td>\n",
       "      <td>0.5</td>\n",
       "      <td>0.5</td>\n",
       "      <td>...</td>\n",
       "      <td>0</td>\n",
       "      <td>1</td>\n",
       "      <td>0</td>\n",
       "      <td>0</td>\n",
       "      <td>0</td>\n",
       "      <td>0</td>\n",
       "      <td>0</td>\n",
       "      <td>0</td>\n",
       "      <td>1</td>\n",
       "      <td>0</td>\n",
       "    </tr>\n",
       "  </tbody>\n",
       "</table>\n",
       "<p>5 rows × 166 columns</p>\n",
       "</div>"
      ],
      "text/plain": [
       "                Player1      Player2  pc_win1_30  pc_win2_60  pc_win1_15  \\\n",
       "23191  Kohlschreiber P.  Volandri F.         0.5         0.5         0.5   \n",
       "23192       Sirianni J.   Querrey S.         0.5         0.5         0.5   \n",
       "23193      Mathieu P.H.  Guccione C.         0.5         0.5         0.5   \n",
       "23194         Becker B.   Russell M.         0.5         0.5         0.5   \n",
       "23195      Johansson T.    Berrer M.         0.5         0.5         0.5   \n",
       "\n",
       "       pc_win1_60  pc_win2_15  pc_win2_90  pc_win1_90  pc_win2_30    ...      \\\n",
       "23191    0.125000    0.166667         0.5         0.5         0.5    ...       \n",
       "23192    0.500000    0.500000         0.5         0.5         0.5    ...       \n",
       "23193    0.192308    0.100000         0.5         0.5         0.5    ...       \n",
       "23194    0.000000    0.136364         0.5         0.5         0.5    ...       \n",
       "23195    0.125000    0.166667         0.5         0.5         0.5    ...       \n",
       "\n",
       "       Round_1st Round  Round_2nd Round  Round_3rd Round  Round_4th Round  \\\n",
       "23191                0                1                0                0   \n",
       "23192                0                1                0                0   \n",
       "23193                0                1                0                0   \n",
       "23194                0                1                0                0   \n",
       "23195                0                1                0                0   \n",
       "\n",
       "       Round_Quarterfinals  Round_Round Robin  Round_Semifinals  \\\n",
       "23191                    0                  0                 0   \n",
       "23192                    0                  0                 0   \n",
       "23193                    0                  0                 0   \n",
       "23194                    0                  0                 0   \n",
       "23195                    0                  0                 0   \n",
       "\n",
       "       Round_The Final  Best of_3  Best of_5  \n",
       "23191                0          1          0  \n",
       "23192                0          1          0  \n",
       "23193                0          1          0  \n",
       "23194                0          1          0  \n",
       "23195                0          1          0  \n",
       "\n",
       "[5 rows x 166 columns]"
      ]
     },
     "execution_count": 46,
     "metadata": {},
     "output_type": "execute_result"
    }
   ],
   "source": [
    "data_aug.head()"
   ]
  },
  {
   "cell_type": "markdown",
   "metadata": {},
   "source": [
    "### Augmenting the datset with dummy variables"
   ]
  },
  {
   "cell_type": "code",
   "execution_count": 12,
   "metadata": {},
   "outputs": [
    {
     "name": "stdout",
     "output_type": "stream",
     "text": [
      "Shape before (55460, 38)\n"
     ]
    }
   ],
   "source": [
    "dummy_fields = ['Location', 'Series', 'Court', 'Surface', 'Round', \"Best of\"]\n",
    "print(\"Shape before {}\".format(data_aug.shape))\n",
    "for each in dummy_fields:\n",
    "    dummies = pd.get_dummies(data_aug[each], prefix=each, drop_first=False)\n",
    "    data_aug = pd.concat([data_aug, dummies], axis=1)\n",
    "    data_aug.drop([each], axis=1, inplace=True)\n",
    "data_aug.drop([\"Tournament\",\"Date\",\"Wsets\",\"Lsets\",\"Loser\",\"ATP\"], axis=1, inplace=True)"
   ]
  },
  {
   "cell_type": "markdown",
   "metadata": {},
   "source": [
    "### Keeping only the data post 2008"
   ]
  },
  {
   "cell_type": "code",
   "execution_count": 13,
   "metadata": {},
   "outputs": [
    {
     "name": "stdout",
     "output_type": "stream",
     "text": [
      "Shape after (31013, 166)\n"
     ]
    }
   ],
   "source": [
    "data_aug = data_aug.iloc[list(indices),:]\n",
    "data_aug = data_aug.loc[data_aug.loc[:,\"Comment\"]==\"Completed\",:]\n",
    "data_aug.drop([\"Comment\"], axis=1, inplace=True)\n",
    "print(\"Shape after {}\".format(data_aug.shape))"
   ]
  },
  {
   "cell_type": "markdown",
   "metadata": {},
   "source": [
    "### Doubling the size of the data sets as we try to predict winners, irrespective of the order of the variables\n",
    "from player1 or player2 point of view"
   ]
  },
  {
   "cell_type": "code",
   "execution_count": 50,
   "metadata": {},
   "outputs": [
    {
     "name": "stdout",
     "output_type": "stream",
     "text": [
      "Final Shape (62026, 165)\n"
     ]
    }
   ],
   "source": [
    "last_days_list = ['pc_win1_'+str(d) for d in last_days] + ['pc_win2_'+ str(d) for d in last_days]\n",
    "last_days_list_rev = ['pc_win2_'+ str(d) for d in last_days] + ['pc_win1_'+str(d) for d in last_days]\n",
    "\n",
    "data_temp = data_aug.copy()\n",
    "data_temp.loc[:,[\"Player1\",\n",
    "                 \"Player2\"] + \n",
    "              last_days_list + \n",
    "              [\"Duel1\",\"Duel2\",\"WRank\",\"LRank\"]] = data_aug.loc[:,[\"Player2\",\n",
    "                                                                  \"Player1\"] +\n",
    "                                                               last_days_list_rev +\n",
    "                                                               [\"Duel2\",\"Duel1\", \"LRank\", \"WRank\"]].values\n",
    "data_aug2 = pd.concat([data_aug, data_temp], axis=0)\n",
    "data_aug2.loc[:,\"Winner\"] = ((data_aug2.loc[:,\"Player1\"]==data_aug2.loc[:,\"Winner\"]) + 0 )\n",
    "data_aug2.drop([\"Duel2\"], axis=1, inplace=True)\n",
    "data_aug2.rename(columns={\"Duel1\":\"Duel_from1\",  \"WRank\":\"Player1_Rank\",\"LRank\":\"Player2_Rank\"}, inplace=True)\n",
    "data_aug2.reset_index(drop=True, inplace=True)\n",
    "print(\"Final Shape {}\".format(data_aug2.shape))"
   ]
  },
  {
   "cell_type": "markdown",
   "metadata": {},
   "source": [
    "### Normalizing Data"
   ]
  },
  {
   "cell_type": "code",
   "execution_count": 51,
   "metadata": {},
   "outputs": [
    {
     "name": "stdout",
     "output_type": "stream",
     "text": [
      "Index(['Player1', 'Player2', 'pc_win1_30', 'pc_win2_60', 'pc_win1_15',\n",
      "       'pc_win1_60', 'pc_win2_15', 'pc_win2_90', 'pc_win1_90', 'pc_win2_30',\n",
      "       ...\n",
      "       'Round_1st Round', 'Round_2nd Round', 'Round_3rd Round',\n",
      "       'Round_4th Round', 'Round_Quarterfinals', 'Round_Round Robin',\n",
      "       'Round_Semifinals', 'Round_The Final', 'Best of_3', 'Best of_5'],\n",
      "      dtype='object', length=165)\n"
     ]
    }
   ],
   "source": [
    "toto2 = data_aug2.copy()\n",
    "#data_aug2 = toto2.copy()\n",
    "print(data_aug2.columns)"
   ]
  },
  {
   "cell_type": "code",
   "execution_count": 52,
   "metadata": {},
   "outputs": [],
   "source": [
    "m, std = np.mean(data_aug2.loc[:, \"Player1_Rank\"]), np.std(data_aug2.loc[:, \"Player1_Rank\"])\n",
    "data_aug2.loc[:, [\"Player1_Rank\", \"Player2_Rank\"]] = (data_aug2.loc[:, [\"Player1_Rank\", \"Player2_Rank\"]]-m)/std\n",
    "data_aug2.loc[:, \"Player_Rank_diff\"]= data_aug2.loc[:, \"Player1_Rank\"] - data_aug2.loc[:, \"Player2_Rank\"]"
   ]
  },
  {
   "cell_type": "code",
   "execution_count": 53,
   "metadata": {},
   "outputs": [],
   "source": [
    "pc_col = [\"pc\" in names for names in data_aug2.columns]\n",
    "m, std = np.mean(data_aug2.loc[:, pc_col]), np.std(data_aug2.loc[:, pc_col])\n",
    "data_aug2.loc[:, pc_col]=(data_aug2.loc[:, pc_col]-m)/std\n"
   ]
  },
  {
   "cell_type": "markdown",
   "metadata": {},
   "source": [
    "### Storing the Data for a latter use"
   ]
  },
  {
   "cell_type": "code",
   "execution_count": 55,
   "metadata": {},
   "outputs": [],
   "source": [
    "data_aug2.to_csv(\"Generated Data/atp_data_augmented2.csv\",index=False)"
   ]
  },
  {
   "cell_type": "markdown",
   "metadata": {},
   "source": [
    "### Now Doing the training\n",
    "#Focusing on years post 2008"
   ]
  },
  {
   "cell_type": "code",
   "execution_count": null,
   "metadata": {},
   "outputs": [],
   "source": [
    "data=pd.read_csv(\"Generated Data/atp_data_augmented2.csv\", encoding = \"ISO-8859-1\")\n",
    "num_df = data.iloc[:,2:].copy()\n",
    "Target = np.array(num_df.loc[:,\"Winner\"]).reshape((num_df.shape[0], 1))\n",
    "Data = np.array(num_df.loc[:, [c != \"Winner\" for c in num_df.columns]])\n",
    "print(Data.shape, Target.shape)"
   ]
  },
  {
   "cell_type": "code",
   "execution_count": null,
   "metadata": {},
   "outputs": [],
   "source": [
    "X_train, X_test, y_train, y_test = train_test_split(Data, Target, test_size=0.25, random_state=42)\n",
    "input_dim = Data.shape[1]\n",
    "\n",
    "X_train = torch.from_numpy(X_train).type(torch.FloatTensor)\n",
    "X_test = torch.from_numpy(X_test).type(torch.FloatTensor)\n",
    "y_train = torch.from_numpy(y_train).type(torch.FloatTensor)\n",
    "y_test = torch.from_numpy(y_test).type(torch.FloatTensor)"
   ]
  },
  {
   "cell_type": "code",
   "execution_count": null,
   "metadata": {},
   "outputs": [],
   "source": [
    "Model = nn.Sequential(nn.Linear(input_dim, 512), nn.BatchNorm1d(512), nn.ReLU(), nn.Dropout(p=0.3),\n",
    "                     nn.Linear(512, 128),nn.BatchNorm1d(128), nn.ReLU(), nn.Dropout(p=0.3),\n",
    "                      nn.Linear(128, 16), nn.ReLU(), nn.Dropout(p=0.3),\n",
    "                     nn.Linear(16, 1), nn.Sigmoid())\n",
    "Model"
   ]
  },
  {
   "cell_type": "code",
   "execution_count": null,
   "metadata": {},
   "outputs": [],
   "source": [
    "criterion = nn.BCELoss()\n",
    "optimizer = optim.Adam(Model.parameters(), 0.000001)\n",
    "\n",
    "n_epochs = 50\n",
    "batch_size = 40"
   ]
  },
  {
   "cell_type": "code",
   "execution_count": null,
   "metadata": {},
   "outputs": [],
   "source": [
    "train_set = torch.utils.data.TensorDataset(X_train, y_train)\n",
    "train_loader = torch.utils.data.DataLoader(train_set, shuffle=True, batch_size=batch_size)\n",
    "\n",
    "test_set = torch.utils.data.TensorDataset(X_test, y_test)\n",
    "test_loader = torch.utils.data.DataLoader(test_set, shuffle=False, batch_size=batch_size)\n",
    "\n",
    "save_path = \"trained_models\\mlp_batch.pt\""
   ]
  },
  {
   "cell_type": "code",
   "execution_count": null,
   "metadata": {},
   "outputs": [],
   "source": [
    "test_loss_min = np.Inf\n",
    "\n",
    "list_train_loss, list_test_loss, list_accuracy = [], [], []\n",
    "\n",
    "for e in range(n_epochs):\n",
    "    train_loss = 0.0\n",
    "    test_loss = 0.0\n",
    "    accuracy = 0.0\n",
    "    ###################\n",
    "    # train the model #\n",
    "    ###################\n",
    "    Model.train()\n",
    "    for batch_idx, (x, y) in enumerate(train_loader):\n",
    "        optimizer.zero_grad()\n",
    "        y_hat = Model(x)\n",
    "        loss = criterion(y_hat, y)\n",
    "        loss.backward()\n",
    "        optimizer.step()\n",
    "        \n",
    "        train_loss = train_loss + ((1 / (batch_idx + 1)) * (loss.item() - train_loss))\n",
    "        #if (batch_idx+1)%2000==0 or (batch_idx+1)==len(train_loader):\n",
    "        #    print('Current Epoch: {}/{}, Current progress {}/{}, Train Loss: {:.6f}'.format(e+1, n_epochs,\n",
    "        #                                                                                   batch_idx+1, len(train_loader),\n",
    "        #                                                                                  train_loss))\n",
    "    ######################    \n",
    "    # Test the model #\n",
    "    ######################  \n",
    "    Model.eval()\n",
    "    for batch_idx, (x, y) in enumerate(test_loader):\n",
    "        ## update the average validation loss\n",
    "        with torch.no_grad():\n",
    "            y_hat = Model(x)\n",
    "            loss = criterion(y_hat, y)\n",
    "            test_loss += loss.item() \n",
    "            \n",
    "            pred_y_hat = y_hat>0.5\n",
    "            equals = pred_y_hat.type(torch.FloatTensor)==y\n",
    "            accuracy += torch.mean(equals.type(torch.FloatTensor))\n",
    "            \n",
    "    test_loss /= len(test_loader)\n",
    "    accuracy /= len(test_loader)\n",
    "    print('Epoch: {}/{} \\tTraining Loss: {:.6f} \\tTest Loss: {:.6f}\\tTest Accuracy: {:.3f} %'.format(e+1, \n",
    "                                                                                                     n_epochs,\n",
    "                                                                                                     train_loss,\n",
    "                                                                                                     test_loss,\n",
    "                                                                                                     accuracy*100))\n",
    "    \n",
    "     ## TODO: save the model if validation loss has decreased\n",
    "    if test_loss < test_loss_min:\n",
    "        print('Test loss decreased ({:.6f} --> {:.6f}). Saving model ...'.format(test_loss_min, test_loss))\n",
    "        torch.save(Model.state_dict(), save_path)\n",
    "        test_loss_min = test_loss\n",
    "        \n",
    "    list_train_loss +=[train_loss]\n",
    "    list_test_loss += [test_loss]\n",
    "    list_accuracy += [accuracy]\n",
    "    \n",
    "fig = plt.figure(figsize=(20,4))\n",
    "ax = fig.add_subplot(1, 2, 1)\n",
    "ax.plot(np.arange(1, n_epochs+1), list_train_loss,\"--g\", label='Train Loss')\n",
    "ax.plot(np.arange(1, n_epochs+1), list_test_loss, \"-b\", label='Test Loss')\n",
    "plt.xlabel(\"n epochs\")\n",
    "plt.ylabel(\"Loss\")\n",
    "plt.legend()\n",
    "plt.ylim(0.4,0.8)\n",
    "    \n",
    "ax = fig.add_subplot(1, 2, 2)\n",
    "ax.plot(np.arange(1, n_epochs+1), list_accuracy, \"-b\", label='Accuracy')\n",
    "plt.xlabel(\"n epochs\")\n",
    "plt.ylabel(\"Loss\")\n",
    "plt.legend()\n",
    "plt.ylim(0.5,1)"
   ]
  }
 ],
 "metadata": {
  "kernelspec": {
   "display_name": "Python 3",
   "language": "python",
   "name": "python3"
  },
  "language_info": {
   "codemirror_mode": {
    "name": "ipython",
    "version": 3
   },
   "file_extension": ".py",
   "mimetype": "text/x-python",
   "name": "python",
   "nbconvert_exporter": "python",
   "pygments_lexer": "ipython3",
   "version": "3.5.6"
  }
 },
 "nbformat": 4,
 "nbformat_minor": 4
}
